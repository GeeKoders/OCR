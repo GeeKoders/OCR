{
  "nbformat": 4,
  "nbformat_minor": 0,
  "metadata": {
    "colab": {
      "name": "handwritten.ipynb",
      "provenance": [],
      "collapsed_sections": []
    },
    "kernelspec": {
      "name": "python3",
      "display_name": "Python 3"
    },
    "language_info": {
      "name": "python"
    }
  },
  "cells": [
    {
      "cell_type": "code",
      "metadata": {
        "id": "Kbp73Lb0ax7o",
        "colab": {
          "base_uri": "https://localhost:8080/"
        },
        "outputId": "9f0a820f-0dad-41de-e2e9-c94bbd454704"
      },
      "source": [
        "from tensorflow.keras.models import load_model\n",
        "from keras.preprocessing.image import img_to_array\n",
        "import numpy as np\n",
        "import matplotlib.pyplot as plt\n",
        "import os\n",
        "import cv2\n",
        "import copy\n",
        "import json\n",
        "\n",
        "def cv_imread(filePath):\n",
        "    cv_img=cv2.imdecode(np.fromfile(filePath,dtype=np.uint8),-1)\n",
        "    return cv_img\n",
        "\n",
        "def img_preprocessing(image, width=50, height=50):\n",
        "    image = cv_imread(image)\n",
        "    blur = cv2.GaussianBlur(image, (3, 3), 0)\n",
        "    gray = cv2.cvtColor(blur, cv2.COLOR_BGR2GRAY)\n",
        "    thresh = cv2.threshold(gray, 220, 255, cv2.THRESH_BINARY_INV)[1]\n",
        "    x, y, w, h = cv2.boundingRect(thresh)\n",
        "    crop_image = image[y:y + h, x:x + w]\n",
        "    image = cv2.resize(crop_image, (50, 50))\n",
        "    return image\n",
        "\n",
        "def img_reshape(image):\n",
        "  images = []\n",
        "  x=img_to_array(image)\n",
        "  images.append(x)\n",
        "  images=np.array(images)\n",
        "  return images\n",
        "\n",
        "def showResult(prediction, top = 3):\n",
        "    nums = []\n",
        "    for i in prediction.tolist():\n",
        "        nums = i\n",
        "    t = copy.deepcopy(nums)\n",
        "    dict = {}\n",
        "    for _ in range(top):\n",
        "        number = max(t)\n",
        "        if number!= 0:\n",
        "            index = t.index(number)\n",
        "            t[index] = 0\n",
        "            dict[index] = str(number) + ',' + LabelNames[index]\n",
        "    t = []\n",
        "    jsonData = json.dumps(dict, ensure_ascii=False).encode('utf8')\n",
        "    return jsonData.decode()\n",
        "\n",
        "\n",
        "TestingDataPath = '/content/chineseocr/images/testing-data'\n",
        "ModelPath = '/content/chineseocr/models'\n",
        "LabelNames = '拈拉拋拌拍拎拐拒拓拔拖拗拘拙拚招放斧於旺昀昂昆昌明昏易昔朋服'\n",
        "ModeName = 'CNN_Model.h5'\n",
        "\n",
        "os.chdir(ModelPath)\n",
        "model = load_model(ModeName)\n",
        "\n",
        "os.chdir(TestingDataPath)\n",
        "\n",
        "image = img_preprocessing('test.png')\n",
        "images = img_reshape(image)\n",
        "\n",
        "print(images.shape)\n",
        "\n",
        "prediction = model.predict(images)\n",
        "\n",
        "result = showResult(prediction)\n",
        "\n",
        "print(result)\n",
        "\n",
        "\n"
      ],
      "execution_count": 2,
      "outputs": [
        {
          "output_type": "stream",
          "text": [
            "(1, 50, 50, 3)\n",
            "{\"21\": \"1.0,昂\"}\n"
          ],
          "name": "stdout"
        }
      ]
    },
    {
      "cell_type": "code",
      "metadata": {
        "id": "liMAYvysfoi9"
      },
      "source": [
        ""
      ],
      "execution_count": null,
      "outputs": []
    }
  ]
}