{
  "nbformat": 4,
  "nbformat_minor": 0,
  "metadata": {
    "colab": {
      "name": "handwritten_2375.ipynb",
      "provenance": [],
      "collapsed_sections": []
    },
    "kernelspec": {
      "name": "python3",
      "display_name": "Python 3"
    },
    "language_info": {
      "name": "python"
    },
    "accelerator": "GPU"
  },
  "cells": [
    {
      "cell_type": "code",
      "metadata": {
        "colab": {
          "base_uri": "https://localhost:8080/",
          "height": 301
        },
        "id": "fuDShmAmYA8a",
        "outputId": "beb2df10-a36c-46a0-9538-a1ef3ced392a"
      },
      "source": [
        "from tensorflow.keras.models import load_model\n",
        "from keras.preprocessing.image import img_to_array\n",
        "from decimal import Decimal\n",
        "import numpy as np\n",
        "import matplotlib.pyplot as plt\n",
        "import os\n",
        "import cv2\n",
        "import copy\n",
        "import json\n",
        "\n",
        "def cv_imread(filePath):\n",
        "    cv_img=cv2.imdecode(np.fromfile(filePath,dtype=np.uint8),-1)\n",
        "    return cv_img\n",
        "\n",
        "def img_preprocessing(image, width=50, height=50):\n",
        "    image = cv_imread(image)\n",
        "    blur = cv2.GaussianBlur(image, (3, 3), 0)\n",
        "    gray = cv2.cvtColor(blur, cv2.COLOR_BGR2GRAY)\n",
        "    thresh = cv2.threshold(gray, 220, 255, cv2.THRESH_BINARY_INV)[1]\n",
        "    x, y, w, h = cv2.boundingRect(thresh)\n",
        "    crop_image = image[y:y + h, x:x + w]\n",
        "    image = cv2.resize(crop_image, (50, 50))\n",
        "    return image\n",
        "\n",
        "def img_reshape(image):\n",
        "  images = []\n",
        "  x=img_to_array(image)\n",
        "  images.append(x)\n",
        "  images=np.array(images)\n",
        "  images /= 255\n",
        "  return images\n",
        "\n",
        "def showResult(prediction, Top = 3):\n",
        "    nums = []\n",
        "    for i in prediction.tolist():\n",
        "        nums = i\n",
        "    t = copy.deepcopy(nums)\n",
        "    dict = {}\n",
        "    for _ in range(Top):\n",
        "        number = max(t)\n",
        "        if number!= 0:\n",
        "            index = t.index(number)\n",
        "            t[index] = 0\n",
        "            # dict[index] = str(number) + ',' + LabelNames[index]\n",
        "            dict[index] = str(round(Decimal(str(number)),2)) + ',' + LabelNames[index]\n",
        "    t = []\n",
        "    jsonData = json.dumps(dict, ensure_ascii=False).encode('utf8')\n",
        "    return jsonData.decode()\n",
        "\n",
        "def labelOutput(File, LabelNames):\n",
        "  with open(File, \"r\", encoding='big5') as f:\n",
        "    for line in f.readlines():\n",
        "      line = line.strip('\\n')\n",
        "      LabelNames.append(line)\n",
        "  return LabelNames\n",
        "\n",
        "Top = 4\n",
        "File = '/content/chineseocr/images/training-data/training-data.txt'\n",
        "TestingDataPath = '/content/chineseocr/images/testing-data'\n",
        "ModelPath = '/content/chineseocr/models'\n",
        "LabelNames = []\n",
        "ModeName = 'CNN_Model_2375.h5'\n",
        "\n",
        "LabelNames = labelOutput(File, LabelNames)\n",
        "\n",
        "os.chdir(ModelPath)\n",
        "model = load_model(ModeName)\n",
        "\n",
        "os.chdir(TestingDataPath)\n",
        "\n",
        "image = img_preprocessing('test.png')\n",
        "images = img_reshape(image)\n",
        "# print(images.shape)\n",
        "prediction = model.predict(images)\n",
        "maxProbIdx = np.argmax(prediction)\n",
        "plt.imshow(image)\n",
        "print('predict value:', LabelNames[maxProbIdx])\n",
        "result = showResult(prediction, Top)\n",
        "print(f'Top {Top} result:{result}')\n"
      ],
      "execution_count": 6,
      "outputs": [
        {
          "output_type": "stream",
          "text": [
            "predict value: 拘\n",
            "Top 4 result:{\"1548\": \"0.34,拘\", \"1892\": \"0.20,枸\", \"1600\": \"0.16,掏\", \"1536\": \"0.06,拈\"}\n"
          ],
          "name": "stdout"
        },
        {
          "output_type": "display_data",
          "data": {
            "image/png": "[encoded data removed]",
            "text/plain": [
              "<Figure size 432x288 with 1 Axes>"
            ]
          },
          "metadata": {
            "tags": [],
            "needs_background": "light"
          }
        }
      ]
    },
    {
      "cell_type": "code",
      "metadata": {
        "colab": {
          "base_uri": "https://localhost:8080/",
          "height": 130
        },
        "id": "9cG0tckHk8kT",
        "outputId": "3ce68ba2-d8d9-48f0-a96d-8b8b00706f75"
      },
      "source": [
        "os.chdir('/content/chineseocr/images/training-data')\n",
        "! unzip -O utf-8 training-data.zip"
      ],
      "execution_count": 17,
      "outputs": [
        {
          "output_type": "error",
          "ename": "SyntaxError",
          "evalue": "ignored",
          "traceback": [
            "\u001b[0;36m  File \u001b[0;32m\"<ipython-input-17-dd30acdcda33>\"\u001b[0;36m, line \u001b[0;32m1\u001b[0m\n\u001b[0;31m    4os.chdir('/content/chineseocr/images/training-data')\u001b[0m\n\u001b[0m      ^\u001b[0m\n\u001b[0;31mSyntaxError\u001b[0m\u001b[0;31m:\u001b[0m invalid syntax\n"
          ]
        }
      ]
    },
    {
      "cell_type": "code",
      "metadata": {
        "id": "n3niqqRJ3w6_"
      },
      "source": [
        "# label output txt\n",
        "import os\n",
        "\n",
        "LabelNames = [x for x in os.listdir('D:/ocr-handwriting/training-data')]\n",
        "\n",
        "print(os.getcwd())\n",
        "\n",
        "print(LabelNames)\n",
        "\n",
        "File = 'D:/OCR/chineseocr/models/training-data.txt'\n",
        "\n",
        "file = open(File, 'wt')\n",
        "\n",
        "for i in range(2375):\n",
        "    print(LabelNames[i])\n",
        "    file.write(LabelNames[i] +'\\n')\n",
        "file.close()"
      ],
      "execution_count": null,
      "outputs": []
    },
    {
      "cell_type": "code",
      "metadata": {
        "colab": {
          "base_uri": "https://localhost:8080/"
        },
        "id": "bOioaCR_wrDI",
        "outputId": "67534189-096c-4882-ca90-f2bcbc6aed4d"
      },
      "source": [
        "! nvidia-smi"
      ],
      "execution_count": 1,
      "outputs": [
        {
          "output_type": "stream",
          "text": [
            "Wed Jun  2 15:20:06 2021       \n",
            "+-----------------------------------------------------------------------------+\n",
            "| NVIDIA-SMI 465.19.01    Driver Version: 460.32.03    CUDA Version: 11.2     |\n",
            "|-------------------------------+----------------------+----------------------+\n",
            "| GPU  Name        Persistence-M| Bus-Id        Disp.A | Volatile Uncorr. ECC |\n",
            "| Fan  Temp  Perf  Pwr:Usage/Cap|         Memory-Usage | GPU-Util  Compute M. |\n",
            "|                               |                      |               MIG M. |\n",
            "|===============================+======================+======================|\n",
            "|   0  Tesla T4            Off  | 00000000:00:04.0 Off |                    0 |\n",
            "| N/A   43C    P8    10W /  70W |      0MiB / 15109MiB |      0%      Default |\n",
            "|                               |                      |                  N/A |\n",
            "+-------------------------------+----------------------+----------------------+\n",
            "                                                                               \n",
            "+-----------------------------------------------------------------------------+\n",
            "| Processes:                                                                  |\n",
            "|  GPU   GI   CI        PID   Type   Process name                  GPU Memory |\n",
            "|        ID   ID                                                   Usage      |\n",
            "|=============================================================================|\n",
            "|  No running processes found                                                 |\n",
            "+-----------------------------------------------------------------------------+\n"
          ],
          "name": "stdout"
        }
      ]
    },
    {
      "cell_type": "code",
      "metadata": {
        "colab": {
          "base_uri": "https://localhost:8080/"
        },
        "id": "vpCAlVx1ZaU3",
        "outputId": "1129991b-8ae0-48df-d543-dff2e8feead8"
      },
      "source": [
        "import tensorflow as tf\n",
        "import keras\n",
        "print(keras.__version__)\n",
        "print(tf.__version__)"
      ],
      "execution_count": 1,
      "outputs": [
        {
          "output_type": "stream",
          "text": [
            "2.5.0\n",
            "2.5.0\n"
          ],
          "name": "stdout"
        }
      ]
    },
    {
      "cell_type": "code",
      "metadata": {
        "colab": {
          "base_uri": "https://localhost:8080/"
        },
        "id": "qZLnAk2f54U2",
        "outputId": "b604055f-49a6-48b2-fe04-8dc035236229"
      },
      "source": [
        "! python --version\n"
      ],
      "execution_count": 5,
      "outputs": [
        {
          "output_type": "stream",
          "text": [
            "Python 3.7.10\n"
          ],
          "name": "stdout"
        }
      ]
    },
    {
      "cell_type": "code",
      "metadata": {
        "id": "_w0JNxkN69dd"
      },
      "source": [
        ""
      ],
      "execution_count": null,
      "outputs": []
    }
  ]
}