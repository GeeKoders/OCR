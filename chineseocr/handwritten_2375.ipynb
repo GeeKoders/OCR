{
  "nbformat": 4,
  "nbformat_minor": 0,
  "metadata": {
    "colab": {
      "name": "handwritten_2375.ipynb",
      "provenance": [],
      "collapsed_sections": []
    },
    "kernelspec": {
      "name": "python3",
      "display_name": "Python 3"
    },
    "language_info": {
      "name": "python"
    }
  },
  "cells": [
    {
      "cell_type": "code",
      "metadata": {
        "colab": {
          "base_uri": "https://localhost:8080/"
        },
        "id": "fuDShmAmYA8a",
        "outputId": "e0a40a62-664e-4433-fd97-6b4222bd6669"
      },
      "source": [
        "from tensorflow.keras.models import load_model\n",
        "from keras.preprocessing.image import img_to_array\n",
        "from decimal import Decimal\n",
        "import numpy as np\n",
        "import matplotlib.pyplot as plt\n",
        "import os\n",
        "import cv2\n",
        "import copy\n",
        "import json\n",
        "\n",
        "def cv_imread(filePath):\n",
        "    cv_img=cv2.imdecode(np.fromfile(filePath,dtype=np.uint8),-1)\n",
        "    return cv_img\n",
        "\n",
        "def img_preprocessing(image, width=50, height=50):\n",
        "    image = cv_imread(image)\n",
        "    blur = cv2.GaussianBlur(image, (3, 3), 0)\n",
        "    gray = cv2.cvtColor(blur, cv2.COLOR_BGR2GRAY)\n",
        "    thresh = cv2.threshold(gray, 220, 255, cv2.THRESH_BINARY_INV)[1]\n",
        "    x, y, w, h = cv2.boundingRect(thresh)\n",
        "    crop_image = image[y:y + h, x:x + w]\n",
        "    image = cv2.resize(crop_image, (50, 50))\n",
        "    return image\n",
        "\n",
        "def img_reshape(image):\n",
        "  images = []\n",
        "  x=img_to_array(image)\n",
        "  images.append(x)\n",
        "  images=np.array(images)\n",
        "  images /= 255\n",
        "  return images\n",
        "\n",
        "def showResult(prediction, Top = 3):\n",
        "    nums = []\n",
        "    for i in prediction.tolist():\n",
        "        nums = i\n",
        "    t = copy.deepcopy(nums)\n",
        "    dict = {}\n",
        "    for _ in range(Top):\n",
        "        number = max(t)\n",
        "        if number!= 0:\n",
        "            index = t.index(number)\n",
        "            t[index] = 0\n",
        "            # dict[index] = str(number) + ',' + LabelNames[index]\n",
        "            dict[index] = str(round(Decimal(str(number)),2)) + ',' + LabelNames[index]\n",
        "    t = []\n",
        "    jsonData = json.dumps(dict, ensure_ascii=False).encode('utf8')\n",
        "    return jsonData.decode()\n",
        "\n",
        "def labelOutput(File, LabelNames):\n",
        "  with open(File, \"r\", encoding='big5') as f:\n",
        "    for line in f.readlines():\n",
        "      line = line.strip('\\n')\n",
        "      LabelNames.append(line)\n",
        "  return LabelNames\n",
        "\n",
        "Top = 3\n",
        "File = '/content/chineseocr/images/training-data/training-data.txt'\n",
        "TestingDataPath = '/content/chineseocr/images/testing-data'\n",
        "ModelPath = '/content/chineseocr/models'\n",
        "LabelNames = []\n",
        "ModeName = 'CNN_Model_2375.h5'\n",
        "\n",
        "LabelNames = labelOutput(File, LabelNames)\n",
        "\n",
        "os.chdir(ModelPath)\n",
        "model = load_model(ModeName)\n",
        "\n",
        "os.chdir(TestingDataPath)\n",
        "\n",
        "image = img_preprocessing('test3.png')\n",
        "images = img_reshape(image)\n",
        "# print(images.shape)\n",
        "prediction = model.predict(images)\n",
        "maxProbIdx = np.argmax(prediction)\n",
        "print('predict value:', LabelNames[maxProbIdx])\n",
        "result = showResult(prediction, Top)\n",
        "print(f'Top {Top} result:{result}')\n"
      ],
      "execution_count": 79,
      "outputs": [
        {
          "output_type": "stream",
          "text": [
            "predict value: 查\n",
            "Top 3 result:{\"1901\": \"1.00,查\", \"1875\": \"0.00,杳\", \"1799\": \"0.00,晝\"}\n"
          ],
          "name": "stdout"
        }
      ]
    },
    {
      "cell_type": "code",
      "metadata": {
        "colab": {
          "base_uri": "https://localhost:8080/"
        },
        "id": "9cG0tckHk8kT",
        "outputId": "85d63291-700d-429f-fc2e-3a655c0a58d2"
      },
      "source": [
        "4os.chdir('/content/chineseocr/images/training-data')\n",
        "! unzip -O utf-8 training-data.zip"
      ],
      "execution_count": 46,
      "outputs": [
        {
          "output_type": "stream",
          "text": [
            "Archive:  training-data.zip\n",
            "  inflating: training-data.txt       \n"
          ],
          "name": "stdout"
        }
      ]
    },
    {
      "cell_type": "code",
      "metadata": {
        "id": "n3niqqRJ3w6_"
      },
      "source": [
        "# label output txt\n",
        "import os\n",
        "\n",
        "LabelNames = [x for x in os.listdir('D:/ocr-handwriting/training-data')]\n",
        "\n",
        "print(os.getcwd())\n",
        "\n",
        "print(LabelNames)\n",
        "\n",
        "File = 'D:/OCR/chineseocr/models/training-data.txt'\n",
        "\n",
        "file = open(File, 'wt')\n",
        "\n",
        "for i in range(2375):\n",
        "    print(LabelNames[i])\n",
        "    file.write(LabelNames[i] +'\\n')\n",
        "file.close()"
      ],
      "execution_count": null,
      "outputs": []
    }
  ]
}